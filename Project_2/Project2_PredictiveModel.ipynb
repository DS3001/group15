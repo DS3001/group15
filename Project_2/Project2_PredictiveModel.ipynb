{
  "nbformat": 4,
  "nbformat_minor": 0,
  "metadata": {
    "colab": {
      "provenance": []
    },
    "kernelspec": {
      "name": "python3",
      "display_name": "Python 3"
    },
    "language_info": {
      "name": "python"
    }
  },
  "cells": [
    {
      "cell_type": "code",
      "execution_count": 1,
      "metadata": {
        "colab": {
          "base_uri": "https://localhost:8080/"
        },
        "id": "d5ydx1hFFkTE",
        "outputId": "084c5d0b-cff1-4ea1-d031-5b950faafde5"
      },
      "outputs": [
        {
          "output_type": "stream",
          "name": "stdout",
          "text": [
            "Cloning into 'group15'...\n",
            "warning: redirecting to https://github.com/DS3001/group15.git/\n",
            "remote: Enumerating objects: 140, done.\u001b[K\n",
            "remote: Counting objects: 100% (82/82), done.\u001b[K\n",
            "remote: Compressing objects: 100% (77/77), done.\u001b[K\n",
            "remote: Total 140 (delta 43), reused 5 (delta 3), pack-reused 58\u001b[K\n",
            "Receiving objects: 100% (140/140), 4.47 MiB | 15.05 MiB/s, done.\n",
            "Resolving deltas: 100% (61/61), done.\n"
          ]
        }
      ],
      "source": [
        "! git clone https://www.github.com/DS3001/group15"
      ]
    },
    {
      "cell_type": "code",
      "source": [
        "import numpy as np\n",
        "import pandas as pd\n",
        "import seaborn as sns\n",
        "import matplotlib.pyplot as plt\n",
        "from sklearn.preprocessing import PolynomialFeatures\n",
        "from sklearn.preprocessing import LabelBinarizer\n",
        "from sklearn.neighbors import KNeighborsRegressor\n",
        "from sklearn.neighbors import KNeighborsClassifier\n",
        "from sklearn.linear_model import LinearRegression\n",
        "from sklearn import tree\n",
        "from sklearn.cluster import KMeans\n",
        "from sklearn.model_selection import RepeatedKFold,GridSearchCV\n",
        "from sklearn.tree import DecisionTreeRegressor, export_graphviz\n",
        "from sklearn.pipeline import make_pipeline,Pipeline\n",
        "from sklearn.compose import ColumnTransformer\n",
        "from sklearn.metrics import make_scorer, mean_squared_error, mean_absolute_error"
      ],
      "metadata": {
        "id": "CPy8fN35Gz95"
      },
      "execution_count": 48,
      "outputs": []
    },
    {
      "cell_type": "code",
      "source": [
        "df_train = pd.read_csv('/content/group15/Project_2/training_cleaned.csv')\n",
        "df_test = pd.read_csv('/content/group15/Project_2/testing_cleaned.csv')\n",
        "\n",
        "y_train = df_train['stroke']\n",
        "X_train = df_train.drop('stroke', axis=1)\n",
        "y_test = df_test['stroke']\n",
        "X_test = df_test.drop('stroke', axis=1)"
      ],
      "metadata": {
        "id": "NmiyO8ReLdLi"
      },
      "execution_count": 3,
      "outputs": []
    },
    {
      "cell_type": "markdown",
      "source": [
        "Notes from Visualization:\n",
        "hypertension, smoking status, heart disease, gender, age -- seem to be the most influencial variables. First step is to check using KMC"
      ],
      "metadata": {
        "id": "1LfHxJ2LLARR"
      }
    },
    {
      "cell_type": "markdown",
      "source": [
        "# KMC"
      ],
      "metadata": {
        "id": "Hct4kdNISLDk"
      }
    },
    {
      "cell_type": "code",
      "source": [
        "#ffc is 'features for clustering'\n",
        "#dfc is 'data for clustering'\n",
        "dummies = pd.concat([ pd.get_dummies(X_train['work_type'],dtype='int',drop_first=True),\n",
        "                      pd.get_dummies(X_train['Residence_type'],dtype='int',drop_first=True),\n",
        "                      pd.get_dummies(X_train['gender'],dtype='int',drop_first=True),\n",
        "                      pd.get_dummies(X_train['smoking_status'],dtype='int',drop_first=True)],axis=1)\n",
        "\n",
        "ffc = ['age', 'heart_disease', 'hypertension', 'stroke'] # I included stroke so i can see how the clusters vary in their stroke presence\n",
        "dfc = pd.concat([df_train[ffc], dummies], axis=1)\n",
        "\n",
        "num_clusters = 5 # number of clusters to look at\n",
        "\n",
        "kmeans_model = KMeans(n_clusters=num_clusters, random_state=42)\n",
        "kmeans_model.fit(dfc) # fit the model\n",
        "\n",
        "# get cluster centers\n",
        "cluster_centers = kmeans_model.cluster_centers_\n",
        "\n",
        "# create a dataframe to display\n",
        "cluster_centers_df = pd.DataFrame(cluster_centers, columns=dfc.columns)\n",
        "\n",
        "print(\"Cluster Centers:\")\n",
        "print(cluster_centers_df)"
      ],
      "metadata": {
        "colab": {
          "base_uri": "https://localhost:8080/"
        },
        "id": "Rk0KBI0UMBiT",
        "outputId": "c1dcd219-1b4a-4663-f01c-2c2762f85bf5"
      },
      "execution_count": 14,
      "outputs": [
        {
          "output_type": "stream",
          "name": "stderr",
          "text": [
            "/usr/local/lib/python3.10/dist-packages/sklearn/cluster/_kmeans.py:870: FutureWarning: The default value of `n_init` will change from 10 to 'auto' in 1.4. Set the value of `n_init` explicitly to suppress the warning\n",
            "  warnings.warn(\n"
          ]
        },
        {
          "output_type": "stream",
          "name": "stdout",
          "text": [
            "Cluster Centers:\n",
            "         age  heart_disease  hypertension    stroke  Never_worked   Private  \\\n",
            "0  26.387728       0.001305      0.011749  0.001305  3.916449e-03  0.832898   \n",
            "1  75.246246       0.183183      0.238739  0.156156 -1.431147e-17  0.489489   \n",
            "2  42.829405       0.013468      0.060606  0.016835 -1.604619e-17  0.672278   \n",
            "3   8.654281       0.001513      0.001513  0.001513  1.815431e-02  0.157337   \n",
            "4  57.912076       0.068856      0.152542  0.052966 -1.561251e-17  0.604873   \n",
            "\n",
            "   Self-employed      children     Urban      Male         Other  \\\n",
            "0       0.062663  6.106227e-16  0.497389  0.343342  1.305483e-03   \n",
            "1       0.388889  6.106227e-16  0.510511  0.399399 -1.626303e-19   \n",
            "2       0.138047  6.383782e-16  0.499439  0.362514 -1.192622e-18   \n",
            "3       0.016641  7.987897e-01  0.491679  0.527988 -1.084202e-19   \n",
            "4       0.205508  6.383782e-16  0.508475  0.433263 -1.246832e-18   \n",
            "\n",
            "   formerly smoked  never smoked    smokes  \n",
            "0         0.120104      0.453003  0.187990  \n",
            "1         0.289790      0.427928  0.115616  \n",
            "2         0.145903      0.432099  0.205387  \n",
            "3         0.028744      0.161876  0.007564  \n",
            "4         0.239407      0.369703  0.202331  \n"
          ]
        }
      ]
    },
    {
      "cell_type": "markdown",
      "source": [
        "Age, heart disease, hypertension, gender (from visualization), urban,  and smoking seem to be the biggest indicators."
      ],
      "metadata": {
        "id": "l_eO3ggvRQCp"
      }
    },
    {
      "cell_type": "markdown",
      "source": [
        "# Linear Regression Model"
      ],
      "metadata": {
        "id": "p_L8b41PSH5D"
      }
    },
    {
      "cell_type": "code",
      "source": [
        "X_train_numeric = X_train.loc[:,['age','hypertension','heart_disease'] ] # most important numeric variables\n",
        "\n",
        "expander = PolynomialFeatures(degree=2,include_bias=False) # expander\n",
        "Z = expander.fit_transform(X_train_numeric)\n",
        "names = expander.get_feature_names_out()\n",
        "continuous = pd.DataFrame(data=Z, columns = names)\n",
        "\n",
        "dummies_train = pd.concat([ pd.get_dummies(X_train['gender'],dtype='int',drop_first=True), # dummy vars for categorical\n",
        "                      pd.get_dummies(X_train['Residence_type'],dtype='int',drop_first=True),\n",
        "                      pd.get_dummies(X_train['smoking_status'],dtype='int',drop_first=True)],axis=1)\n",
        "\n",
        "Z_train = pd.concat([continuous,dummies_train],axis=1)\n",
        "\n",
        "#repeat training process for test\n",
        "\n",
        "X_test_numeric = X_test.loc[:,['age','hypertension','heart_disease'] ]\n",
        "expander = PolynomialFeatures(degree=2,include_bias=False)\n",
        "Z = expander.fit_transform(X_test_numeric)\n",
        "names = expander.get_feature_names_out()\n",
        "continuous = pd.DataFrame(data=Z, columns = names)\n",
        "\n",
        "dummies_test = pd.concat([ pd.get_dummies(X_train['gender'],dtype='int',drop_first=True),\n",
        "                      pd.get_dummies(X_train['Residence_type'],dtype='int',drop_first=True),\n",
        "                      pd.get_dummies(X_train['smoking_status'],dtype='int',drop_first=True)],axis=1)\n",
        "\n",
        "Z_test = pd.concat([continuous,dummies_test],axis=1)\n",
        "\n",
        "# fit the model\n",
        "reg = LinearRegression().fit(Z_train, y_train)\n",
        "\n",
        "# get R2 and RMSE\n",
        "print('R2: ', reg.score(Z_test, y_test)) #R2\n",
        "y_hat = reg.predict(Z_test)\n",
        "N = len(y_test)\n",
        "print('RMSE: ', (np.sum( (y_test - y_hat)**2)/N )**.5 )   #RMSE"
      ],
      "metadata": {
        "colab": {
          "base_uri": "https://localhost:8080/"
        },
        "id": "z1hFexfLRgEz",
        "outputId": "26a055a5-342e-4826-e581-b7fe7d11670d"
      },
      "execution_count": 56,
      "outputs": [
        {
          "output_type": "stream",
          "name": "stdout",
          "text": [
            "R2:  0.08404350589545528\n",
            "RMSE:  0.19529206457263773\n"
          ]
        }
      ]
    },
    {
      "cell_type": "code",
      "source": [
        "# predicted values:\n",
        "y_hat_lm = reg.predict(Z_test)\n",
        "residuals_lm = y_test - y_hat_lm\n",
        "\n",
        "# residual plot:\n",
        "sns.kdeplot(residuals_lm)\n",
        "plt.show()\n",
        "\n",
        "# predicted vs actual\n",
        "plt.scatter(x=y_hat_lm, y=y_test)\n",
        "plt.title('Predicted vs. Actual Values')\n",
        "plt.show()"
      ],
      "metadata": {
        "colab": {
          "base_uri": "https://localhost:8080/",
          "height": 884
        },
        "id": "tRjMzpkuV1Y2",
        "outputId": "20d34a37-0969-4d3d-f7c0-850266034f8c"
      },
      "execution_count": 29,
      "outputs": [
        {
          "output_type": "display_data",
          "data": {
            "text/plain": [
              "<Figure size 640x480 with 1 Axes>"
            ],
            "image/png": "[encoded data removed]"
          },
          "metadata": {}
        },
        {
          "output_type": "display_data",
          "data": {
            "text/plain": [
              "<Figure size 640x480 with 1 Axes>"
            ],
            "image/png": "[encoded data removed]"
          },
          "metadata": {}
        }
      ]
    },
    {
      "cell_type": "markdown",
      "source": [
        "These variables on a Linear Model provided a smaller RMSE value than the example given in the write up. To me, this indicates that weighing these specific variables yields better predictors."
      ],
      "metadata": {
        "id": "ddSwnc5XUmP0"
      }
    },
    {
      "cell_type": "markdown",
      "source": [
        "# Decision Tree"
      ],
      "metadata": {
        "id": "i0SZF_RwUxiZ"
      }
    },
    {
      "cell_type": "code",
      "source": [
        "# keeping same variables for decision tree model\n",
        "X_train_numeric = X_train.loc[:,['age','hypertension','heart_disease', 'bmi'] ]\n",
        "expander = PolynomialFeatures(degree=2,include_bias=False)\n",
        "Z = expander.fit_transform(X_train_numeric)\n",
        "names = expander.get_feature_names_out()\n",
        "continuous = pd.DataFrame(data=Z, columns = names)\n",
        "\n",
        "\n",
        "Z_train = expander.fit_transform(X_train_numeric)\n",
        "\n",
        "# training setup\n",
        "dummies_train = pd.concat([ pd.get_dummies(X_train['gender'],dtype='int',drop_first=True),\n",
        "                      pd.get_dummies(X_train['Residence_type'],dtype='int',drop_first=True),\n",
        "                      pd.get_dummies(X_train['smoking_status'],dtype='int',drop_first=True)],axis=1)\n",
        "\n",
        "X_train_combined = pd.concat([pd.DataFrame(data=Z_train, columns=expander.get_feature_names_out()),\n",
        "                              dummies_train], axis=1)\n",
        "\n",
        "# testing setup\n",
        "X_test_numeric = X_test.loc[:,['age','hypertension','heart_disease', 'bmi'] ]\n",
        "expander = PolynomialFeatures(degree=2,include_bias=False)\n",
        "Z = expander.fit_transform(X_test_numeric)\n",
        "\n",
        "Z_test = expander.fit_transform(X_train_numeric)\n",
        "\n",
        "dummies_test = pd.concat([ pd.get_dummies(X_train['gender'],dtype='int',drop_first=True),\n",
        "                      pd.get_dummies(X_train['Residence_type'],dtype='int',drop_first=True),\n",
        "                      pd.get_dummies(X_train['smoking_status'],dtype='int',drop_first=True)],axis=1)\n",
        "\n",
        "X_test_combined = pd.concat([pd.DataFrame(data=Z_test, columns=expander.get_feature_names_out()),\n",
        "                             dummies_test], axis=1)\n",
        "\n",
        "# get kfold\n",
        "kf =RepeatedKFold(n_splits=10,n_repeats =5, random_state=30)\n",
        "\n",
        "scoring = {'r2': 'r2', 'neg_mean_squared_error': 'neg_mean_squared_error'}\n",
        "\n",
        "param = {\n",
        "    'max_depth': [None, 10, 20, 30],\n",
        "    'min_samples_split': [2, 5, 10],\n",
        "}\n",
        "\n",
        "# get and fit decision tree\n",
        "reg = DecisionTreeRegressor(random_state=42)\n",
        "search = GridSearchCV(reg, param, scoring=scoring, n_jobs=-1, cv=kf,refit='r2')\n",
        "model = search.fit(X_train_combined, y_train)\n",
        "\n",
        "pred = model.predict(X_test_combined)"
      ],
      "metadata": {
        "id": "BoS18GwXUwps"
      },
      "execution_count": 67,
      "outputs": []
    },
    {
      "cell_type": "code",
      "source": [
        "test_rmse = np.sqrt(mean_squared_error(y_test, pred))\n",
        "test_r2 = r2_score(y_test, pred)\n",
        "print(\"Test RMSE:\", test_rmse)\n",
        "print(\"Test R2:\", test_r2)"
      ],
      "metadata": {
        "colab": {
          "base_uri": "https://localhost:8080/"
        },
        "id": "2vbIJV6IZcDr",
        "outputId": "7c1e9474-4554-417e-f578-1b88ec0ce2df"
      },
      "execution_count": 68,
      "outputs": [
        {
          "output_type": "stream",
          "name": "stdout",
          "text": [
            "Test RMSE: 0.1614282177720184\n",
            "Test R2: 0.3741582137093671\n"
          ]
        }
      ]
    },
    {
      "cell_type": "markdown",
      "source": [
        "Even lower test RMSE achieved! It was ~0.17, but then I added bmi on a whim and it lowered the RMSE down to 0.15. I then added ever_married for fun, but that raised the RMSE, so I took it out again."
      ],
      "metadata": {
        "id": "BnrYJ8pzaLwy"
      }
    }
  ]
}