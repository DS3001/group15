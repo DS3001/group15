{
 "cells": [
  {
   "cell_type": "markdown",
   "metadata": {},
   "source": [
    "Question 1\n",
    "\n",
    "\n",
    "Part 1"
   ]
  },
  {
   "cell_type": "code",
   "execution_count": 2,
   "metadata": {},
   "outputs": [],
   "source": [
    "import numpy as np\n",
    "import matplotlib.pyplot as plt\n",
    "import pandas as pd\n",
    "import random"
   ]
  },
  {
   "cell_type": "code",
   "execution_count": 3,
   "metadata": {},
   "outputs": [
    {
     "data": {
      "image/png": "[encoded data removed]",
      "text/plain": [
       "<Figure size 432x288 with 1 Axes>"
      ]
     },
     "metadata": {
      "needs_background": "light"
     },
     "output_type": "display_data"
    },
    {
     "name": "stdout",
     "output_type": "stream",
     "text": [
      "Probability Distribution for Rmin:\n",
      "   Rmin  Probability\n",
      "0     1     0.305556\n",
      "1     2     0.250000\n",
      "2     3     0.194444\n",
      "3     4     0.138889\n",
      "4     5     0.083333\n",
      "5     6     0.027778\n",
      "\n",
      "Expected Value of Rmin: 2.53\n"
     ]
    }
   ],
   "source": [
    "num_dice = 2\n",
    "D = [1, 2, 3, 4, 5, 6]\n",
    "total_outcomes = 6 ** num_dice\n",
    "pr = np.zeros(6)\n",
    "Rmin_values = np.arange(1,7)\n",
    "\n",
    "for i in range(6):\n",
    "    for j in range(6):\n",
    "        min_value = min(D[i], D[j])\n",
    "        pr[min_value - 1] += 1 / 36\n",
    "\n",
    "plt.scatter(Rmin_values, pr, color='blue', marker='o')\n",
    "plt.xlabel(\"Rmin\")\n",
    "plt.ylabel(\"Probability\")\n",
    "plt.title('Probability Distribution for Rmin')\n",
    "plt.show()\n",
    "\n",
    "df_Rmin = pd.DataFrame({'Rmin': Rmin_values, 'Probability': pr})\n",
    "print(\"Probability Distribution for Rmin:\")\n",
    "print(df_Rmin)\n",
    "\n",
    "expected_value = np.sum(Rmin_values * pr)\n",
    "print(f\"\\nExpected Value of Rmin: {expected_value:.2f}\")"
   ]
  },
  {
   "cell_type": "markdown",
   "metadata": {},
   "source": [
    "The likelihood that Rmin is 6 is much lower that 1. This shows that the probability of each value decreases as the minimum increases."
   ]
  },
  {
   "cell_type": "code",
   "execution_count": 4,
   "metadata": {},
   "outputs": [
    {
     "data": {
      "image/png": "[encoded data removed]",
      "text/plain": [
       "<Figure size 432x288 with 1 Axes>"
      ]
     },
     "metadata": {
      "needs_background": "light"
     },
     "output_type": "display_data"
    },
    {
     "data": {
      "text/html": [
       "<div>\n",
       "<style scoped>\n",
       "    .dataframe tbody tr th:only-of-type {\n",
       "        vertical-align: middle;\n",
       "    }\n",
       "\n",
       "    .dataframe tbody tr th {\n",
       "        vertical-align: top;\n",
       "    }\n",
       "\n",
       "    .dataframe thead th {\n",
       "        text-align: right;\n",
       "    }\n",
       "</style>\n",
       "<table border=\"1\" class=\"dataframe\">\n",
       "  <thead>\n",
       "    <tr style=\"text-align: right;\">\n",
       "      <th></th>\n",
       "      <th>x</th>\n",
       "      <th>F</th>\n",
       "    </tr>\n",
       "  </thead>\n",
       "  <tbody>\n",
       "    <tr>\n",
       "      <th>0</th>\n",
       "      <td>1</td>\n",
       "      <td>0.305556</td>\n",
       "    </tr>\n",
       "    <tr>\n",
       "      <th>1</th>\n",
       "      <td>2</td>\n",
       "      <td>0.555556</td>\n",
       "    </tr>\n",
       "    <tr>\n",
       "      <th>2</th>\n",
       "      <td>3</td>\n",
       "      <td>0.750000</td>\n",
       "    </tr>\n",
       "    <tr>\n",
       "      <th>3</th>\n",
       "      <td>4</td>\n",
       "      <td>0.888889</td>\n",
       "    </tr>\n",
       "    <tr>\n",
       "      <th>4</th>\n",
       "      <td>5</td>\n",
       "      <td>0.972222</td>\n",
       "    </tr>\n",
       "    <tr>\n",
       "      <th>5</th>\n",
       "      <td>6</td>\n",
       "      <td>1.000000</td>\n",
       "    </tr>\n",
       "  </tbody>\n",
       "</table>\n",
       "</div>"
      ],
      "text/plain": [
       "   x         F\n",
       "0  1  0.305556\n",
       "1  2  0.555556\n",
       "2  3  0.750000\n",
       "3  4  0.888889\n",
       "4  5  0.972222\n",
       "5  6  1.000000"
      ]
     },
     "execution_count": 4,
     "metadata": {},
     "output_type": "execute_result"
    }
   ],
   "source": [
    "num_dice = 2\n",
    "D = [1, 2, 3, 4, 5, 6]\n",
    "total_outcomes = 6 ** num_dice\n",
    "pr = np.zeros(6)\n",
    "Rmin_values = np.arange(1,7)\n",
    "\n",
    "for i in range(6):\n",
    "    for j in range(6):\n",
    "        min_value = min(D[i], D[j])\n",
    "        pr[min_value - 1] += 1 / 36\n",
    "\n",
    "F = np.cumsum(pr)\n",
    "\n",
    "plt.scatter(Rmin_values ,F)\n",
    "plt.plot(Rmin_values,F)\n",
    "plt.xlabel(\"x\")\n",
    "plt.ylabel(\"F(x) = pr[Rmin = i]\")\n",
    "plt.title('Distribution Function of Rmin')\n",
    "plt.show()\n",
    "\n",
    "df = pd.DataFrame({'x':Rmin_values,'F':F})\n",
    "df"
   ]
  },
  {
   "cell_type": "markdown",
   "metadata": {},
   "source": [
    "Part 2"
   ]
  },
  {
   "cell_type": "code",
   "execution_count": null,
   "metadata": {},
   "outputs": [],
   "source": [
    "# Imagine rolling three dice,  𝑑1 ,  𝑑2 , and  𝑑3 . Let  𝑅𝑚𝑒𝑑  be the middle of the three face values.\n",
    "# So if you roll 2, 3 and 4, the middle value is 3, and if you roll 2, 4, 4, the middle value is 4, and so on."
   ]
  },
  {
   "cell_type": "code",
   "execution_count": 5,
   "metadata": {},
   "outputs": [
    {
     "name": "stdout",
     "output_type": "stream",
     "text": [
      "   Middle Value  Probability\n",
      "0             1     0.166667\n",
      "1             2     0.166667\n",
      "2             3     0.166667\n",
      "3             4     0.166667\n",
      "4             5     0.166667\n",
      "5             6     0.166667\n"
     ]
    }
   ],
   "source": [
    "# What is the probability of getting a 1, 2, 3, 4, 5, or 6?\n",
    "\n",
    "### The probability of getting any number 1 - 6 in the middle is 1/6. ###\n",
    "\n",
    "# Initialize variables\n",
    "num_dice = 3\n",
    "possible_outcomes = 6\n",
    "total_outcomes = possible_outcomes ** num_dice\n",
    "middle_values = np.arange(1, possible_outcomes + 1)\n",
    "pr = np.zeros(possible_outcomes)\n",
    "\n",
    "# Calculate probabilities\n",
    "for middle_value in middle_values:\n",
    "    favorable_outcomes = possible_outcomes ** (num_dice - 1)\n",
    "    pr[middle_value - 1] = favorable_outcomes / total_outcomes\n",
    "\n",
    "# Display the probabilities in a DataFrame\n",
    "df = pd.DataFrame({'Middle Value': middle_values, 'Probability': pr})\n",
    "print(df)\n",
    "\n",
    "## I used Chatgpt to make this code"
   ]
  },
  {
   "cell_type": "code",
   "execution_count": null,
   "metadata": {},
   "outputs": [],
   "source": [
    "# Which values are more or less likely compared to the roll of a single six-sided die?\n",
    "\n",
    "# There is not a roll that is more or less likely because each of the die have the same 6 numbers, and since the\n",
    "# probability is based on the midddle roll, this causes the probability of each number showing up to be the same."
   ]
  },
  {
   "cell_type": "code",
   "execution_count": null,
   "metadata": {},
   "outputs": [],
   "source": [
    "# What is the expected value of  𝑅𝑚𝑒𝑑 ?\n",
    "\n",
    "# There is no expected value of Rmed because the probability of rolling any of the values is the same each\n",
    "# time you roll."
   ]
  },
  {
   "cell_type": "code",
   "execution_count": 6,
   "metadata": {},
   "outputs": [
    {
     "data": {
      "image/png": "[encoded data removed]",
      "text/plain": [
       "<Figure size 432x288 with 1 Axes>"
      ]
     },
     "metadata": {
      "needs_background": "light"
     },
     "output_type": "display_data"
    },
    {
     "data": {
      "image/png": "[encoded data removed]",
      "text/plain": [
       "<Figure size 432x288 with 1 Axes>"
      ]
     },
     "metadata": {
      "needs_background": "light"
     },
     "output_type": "display_data"
    },
    {
     "data": {
      "text/html": [
       "<div>\n",
       "<style scoped>\n",
       "    .dataframe tbody tr th:only-of-type {\n",
       "        vertical-align: middle;\n",
       "    }\n",
       "\n",
       "    .dataframe tbody tr th {\n",
       "        vertical-align: top;\n",
       "    }\n",
       "\n",
       "    .dataframe thead th {\n",
       "        text-align: right;\n",
       "    }\n",
       "</style>\n",
       "<table border=\"1\" class=\"dataframe\">\n",
       "  <thead>\n",
       "    <tr style=\"text-align: right;\">\n",
       "      <th></th>\n",
       "      <th>x</th>\n",
       "      <th>F</th>\n",
       "    </tr>\n",
       "  </thead>\n",
       "  <tbody>\n",
       "    <tr>\n",
       "      <th>0</th>\n",
       "      <td>1</td>\n",
       "      <td>0.166667</td>\n",
       "    </tr>\n",
       "    <tr>\n",
       "      <th>1</th>\n",
       "      <td>2</td>\n",
       "      <td>0.333333</td>\n",
       "    </tr>\n",
       "    <tr>\n",
       "      <th>2</th>\n",
       "      <td>3</td>\n",
       "      <td>0.500000</td>\n",
       "    </tr>\n",
       "    <tr>\n",
       "      <th>3</th>\n",
       "      <td>4</td>\n",
       "      <td>0.666667</td>\n",
       "    </tr>\n",
       "    <tr>\n",
       "      <th>4</th>\n",
       "      <td>5</td>\n",
       "      <td>0.833333</td>\n",
       "    </tr>\n",
       "    <tr>\n",
       "      <th>5</th>\n",
       "      <td>6</td>\n",
       "      <td>1.000000</td>\n",
       "    </tr>\n",
       "  </tbody>\n",
       "</table>\n",
       "</div>"
      ],
      "text/plain": [
       "   x         F\n",
       "0  1  0.166667\n",
       "1  2  0.333333\n",
       "2  3  0.500000\n",
       "3  4  0.666667\n",
       "4  5  0.833333\n",
       "5  6  1.000000"
      ]
     },
     "execution_count": 6,
     "metadata": {},
     "output_type": "execute_result"
    }
   ],
   "source": [
    "#  Plot the probability and cumulative distribution functions for  𝑅𝑚𝑒𝑑 .\n",
    "# I recommend using simulations and the law of large numbers.\n",
    "\n",
    "# Visualize the probability distribution\n",
    "plt.bar(middle_values, pr)\n",
    "plt.xlabel(\"Middle Value\")\n",
    "plt.ylabel(\"Probability\")\n",
    "plt.title('Probability Distribution of the Middle Value when Rolling Three Dice')\n",
    "plt.show()\n",
    "\n",
    "## Chat gpt was used for this graph^^\n",
    "\n",
    "# Visualize the cumulative distribution\n",
    "F = np.cumsum(pr) # Cumulative summation of p\n",
    "\n",
    "plt.scatter(middle_values,F)\n",
    "plt.plot(middle_values,F)\n",
    "plt.xlabel(\"x\")\n",
    "plt.ylabel(\"F(x) = pr[Rmed = i]\")\n",
    "plt.title('Distribution Function of the Sum of Middle Die Values')\n",
    "plt.show()\n",
    "\n",
    "df = pd.DataFrame({'x':middle_values,'F':F})\n",
    "df"
   ]
  },
  {
   "cell_type": "markdown",
   "metadata": {},
   "source": [
    "Part 3"
   ]
  },
  {
   "cell_type": "code",
   "execution_count": 8,
   "metadata": {},
   "outputs": [
    {
     "name": "stdout",
     "output_type": "stream",
     "text": [
      "4.128\n"
     ]
    },
    {
     "data": {
      "text/html": [
       "<div>\n",
       "<style scoped>\n",
       "    .dataframe tbody tr th:only-of-type {\n",
       "        vertical-align: middle;\n",
       "    }\n",
       "\n",
       "    .dataframe tbody tr th {\n",
       "        vertical-align: top;\n",
       "    }\n",
       "\n",
       "    .dataframe thead th {\n",
       "        text-align: right;\n",
       "    }\n",
       "</style>\n",
       "<table border=\"1\" class=\"dataframe\">\n",
       "  <thead>\n",
       "    <tr style=\"text-align: right;\">\n",
       "      <th></th>\n",
       "      <th>Total</th>\n",
       "      <th>Probability</th>\n",
       "    </tr>\n",
       "  </thead>\n",
       "  <tbody>\n",
       "    <tr>\n",
       "      <th>0</th>\n",
       "      <td>1</td>\n",
       "      <td>0.157</td>\n",
       "    </tr>\n",
       "    <tr>\n",
       "      <th>1</th>\n",
       "      <td>2</td>\n",
       "      <td>0.184</td>\n",
       "    </tr>\n",
       "    <tr>\n",
       "      <th>2</th>\n",
       "      <td>3</td>\n",
       "      <td>0.158</td>\n",
       "    </tr>\n",
       "    <tr>\n",
       "      <th>3</th>\n",
       "      <td>4</td>\n",
       "      <td>0.168</td>\n",
       "    </tr>\n",
       "    <tr>\n",
       "      <th>4</th>\n",
       "      <td>5</td>\n",
       "      <td>0.174</td>\n",
       "    </tr>\n",
       "    <tr>\n",
       "      <th>5</th>\n",
       "      <td>7</td>\n",
       "      <td>0.034</td>\n",
       "    </tr>\n",
       "    <tr>\n",
       "      <th>6</th>\n",
       "      <td>8</td>\n",
       "      <td>0.030</td>\n",
       "    </tr>\n",
       "    <tr>\n",
       "      <th>7</th>\n",
       "      <td>9</td>\n",
       "      <td>0.021</td>\n",
       "    </tr>\n",
       "    <tr>\n",
       "      <th>8</th>\n",
       "      <td>10</td>\n",
       "      <td>0.026</td>\n",
       "    </tr>\n",
       "    <tr>\n",
       "      <th>9</th>\n",
       "      <td>11</td>\n",
       "      <td>0.026</td>\n",
       "    </tr>\n",
       "    <tr>\n",
       "      <th>10</th>\n",
       "      <td>13</td>\n",
       "      <td>0.003</td>\n",
       "    </tr>\n",
       "    <tr>\n",
       "      <th>11</th>\n",
       "      <td>14</td>\n",
       "      <td>0.004</td>\n",
       "    </tr>\n",
       "    <tr>\n",
       "      <th>12</th>\n",
       "      <td>15</td>\n",
       "      <td>0.003</td>\n",
       "    </tr>\n",
       "    <tr>\n",
       "      <th>13</th>\n",
       "      <td>16</td>\n",
       "      <td>0.002</td>\n",
       "    </tr>\n",
       "    <tr>\n",
       "      <th>14</th>\n",
       "      <td>17</td>\n",
       "      <td>0.002</td>\n",
       "    </tr>\n",
       "    <tr>\n",
       "      <th>15</th>\n",
       "      <td>19</td>\n",
       "      <td>0.002</td>\n",
       "    </tr>\n",
       "    <tr>\n",
       "      <th>16</th>\n",
       "      <td>20</td>\n",
       "      <td>0.001</td>\n",
       "    </tr>\n",
       "    <tr>\n",
       "      <th>17</th>\n",
       "      <td>21</td>\n",
       "      <td>0.001</td>\n",
       "    </tr>\n",
       "    <tr>\n",
       "      <th>18</th>\n",
       "      <td>22</td>\n",
       "      <td>0.003</td>\n",
       "    </tr>\n",
       "    <tr>\n",
       "      <th>19</th>\n",
       "      <td>23</td>\n",
       "      <td>0.001</td>\n",
       "    </tr>\n",
       "  </tbody>\n",
       "</table>\n",
       "</div>"
      ],
      "text/plain": [
       "    Total  Probability\n",
       "0       1        0.157\n",
       "1       2        0.184\n",
       "2       3        0.158\n",
       "3       4        0.168\n",
       "4       5        0.174\n",
       "5       7        0.034\n",
       "6       8        0.030\n",
       "7       9        0.021\n",
       "8      10        0.026\n",
       "9      11        0.026\n",
       "10     13        0.003\n",
       "11     14        0.004\n",
       "12     15        0.003\n",
       "13     16        0.002\n",
       "14     17        0.002\n",
       "15     19        0.002\n",
       "16     20        0.001\n",
       "17     21        0.001\n",
       "18     22        0.003\n",
       "19     23        0.001"
      ]
     },
     "metadata": {},
     "output_type": "display_data"
    }
   ],
   "source": [
    "simulations = 1000\n",
    "roll_num = 6\n",
    "summary = []\n",
    "for i in range (simulations):\n",
    "  total = 0\n",
    "  while True:\n",
    "    roll_num = random.randint(1, 6)\n",
    "    total += roll_num\n",
    "    if roll_num != 6:\n",
    "      break\n",
    "  summary.append(total)\n",
    "\n",
    "## expected value using the law of large numbers: \n",
    "expected_value = sum(summary) / simulations\n",
    "print(expected_value) #the expected value is 4.217\n",
    "\n",
    "##the probability of getting a total of 1,2,3,and so on \n",
    "probabilities = {total: summary.count(total) / simulations for total in set(summary)} #used chatgpt for this\n",
    "pd.set_option('display.max_rows', None) #used chatgpt for this\n",
    "probabilities_df = pd.DataFrame(list(probabilities.items()), columns=['Total', 'Probability'])\n",
    "display(probabilities_df)"
   ]
  },
  {
   "cell_type": "code",
   "execution_count": null,
   "metadata": {},
   "outputs": [],
   "source": []
  }
 ],
 "metadata": {
  "kernelspec": {
   "display_name": "Python 3",
   "language": "python",
   "name": "python3"
  },
  "language_info": {
   "codemirror_mode": {
    "name": "ipython",
    "version": 3
   },
   "file_extension": ".py",
   "mimetype": "text/x-python",
   "name": "python",
   "nbconvert_exporter": "python",
   "pygments_lexer": "ipython3",
   "version": "3.8.8"
  }
 },
 "nbformat": 4,
 "nbformat_minor": 4
}
