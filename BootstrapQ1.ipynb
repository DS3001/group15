{
 "cells": [
  {
   "cell_type": "markdown",
   "metadata": {},
   "source": [
    "# Question 1 "
   ]
  },
  {
   "cell_type": "markdown",
   "metadata": {},
   "source": [
    "## Part 2"
   ]
  },
  {
   "cell_type": "code",
   "execution_count": 9,
   "metadata": {},
   "outputs": [],
   "source": [
    "import numpy as np\n",
    "import matplotlib.pyplot as plt\n",
    "import pandas as pd"
   ]
  },
  {
   "cell_type": "code",
   "execution_count": 1,
   "metadata": {},
   "outputs": [],
   "source": [
    "# Imagine rolling three dice,  𝑑1 ,  𝑑2 , and  𝑑3 . Let  𝑅𝑚𝑒𝑑  be the middle of the three face values. \n",
    "# So if you roll 2, 3 and 4, the middle value is 3, and if you roll 2, 4, 4, the middle value is 4, and so on."
   ]
  },
  {
   "cell_type": "code",
   "execution_count": 11,
   "metadata": {},
   "outputs": [
    {
     "name": "stdout",
     "output_type": "stream",
     "text": [
      "   Middle Value  Probability\n",
      "0             1     0.166667\n",
      "1             2     0.166667\n",
      "2             3     0.166667\n",
      "3             4     0.166667\n",
      "4             5     0.166667\n",
      "5             6     0.166667\n"
     ]
    }
   ],
   "source": [
    "# What is the probability of getting a 1, 2, 3, 4, 5, or 6?\n",
    "\n",
    "### The probability of getting any number 1 - 6 in the middle is 1/6. ###\n",
    "\n",
    "# Initialize variables\n",
    "num_dice = 3\n",
    "possible_outcomes = 6\n",
    "total_outcomes = possible_outcomes ** num_dice\n",
    "middle_values = np.arange(1, possible_outcomes + 1)\n",
    "pr = np.zeros(possible_outcomes)\n",
    "\n",
    "# Calculate probabilities\n",
    "for middle_value in middle_values:\n",
    "    favorable_outcomes = possible_outcomes ** (num_dice - 1)\n",
    "    pr[middle_value - 1] = favorable_outcomes / total_outcomes\n",
    "\n",
    "# Display the probabilities in a DataFrame\n",
    "df = pd.DataFrame({'Middle Value': middle_values, 'Probability': pr})\n",
    "print(df)\n",
    "\n",
    "## I used Chatgpt to make this code"
   ]
  },
  {
   "cell_type": "code",
   "execution_count": 4,
   "metadata": {},
   "outputs": [],
   "source": [
    "# Which values are more or less likely compared to the roll of a single six-sided die? \n",
    "\n",
    "# There is not a roll that is more or less likely because each of the die have the same 6 numbers, and since the\n",
    "# probability is based on the midddle roll, this causes the probability of each number showing up to be the same. "
   ]
  },
  {
   "cell_type": "code",
   "execution_count": 5,
   "metadata": {},
   "outputs": [],
   "source": [
    "# What is the expected value of  𝑅𝑚𝑒𝑑 ?\n",
    "\n",
    "# There is no expected value of Rmed because the probability of rolling any of the values is the same each\n",
    "# time you roll. "
   ]
  },
  {
   "cell_type": "code",
   "execution_count": 17,
   "metadata": {},
   "outputs": [
    {
     "data": {
      "image/png": "[encoded data removed]",
      "text/plain": [
       "<Figure size 432x288 with 1 Axes>"
      ]
     },
     "metadata": {
      "needs_background": "light"
     },
     "output_type": "display_data"
    },
    {
     "data": {
      "image/png": "[encoded data removed]",
      "text/plain": [
       "<Figure size 432x288 with 1 Axes>"
      ]
     },
     "metadata": {
      "needs_background": "light"
     },
     "output_type": "display_data"
    },
    {
     "data": {
      "text/html": [
       "<div>\n",
       "<style scoped>\n",
       "    .dataframe tbody tr th:only-of-type {\n",
       "        vertical-align: middle;\n",
       "    }\n",
       "\n",
       "    .dataframe tbody tr th {\n",
       "        vertical-align: top;\n",
       "    }\n",
       "\n",
       "    .dataframe thead th {\n",
       "        text-align: right;\n",
       "    }\n",
       "</style>\n",
       "<table border=\"1\" class=\"dataframe\">\n",
       "  <thead>\n",
       "    <tr style=\"text-align: right;\">\n",
       "      <th></th>\n",
       "      <th>x</th>\n",
       "      <th>F</th>\n",
       "    </tr>\n",
       "  </thead>\n",
       "  <tbody>\n",
       "    <tr>\n",
       "      <th>0</th>\n",
       "      <td>1</td>\n",
       "      <td>0.166667</td>\n",
       "    </tr>\n",
       "    <tr>\n",
       "      <th>1</th>\n",
       "      <td>2</td>\n",
       "      <td>0.333333</td>\n",
       "    </tr>\n",
       "    <tr>\n",
       "      <th>2</th>\n",
       "      <td>3</td>\n",
       "      <td>0.500000</td>\n",
       "    </tr>\n",
       "    <tr>\n",
       "      <th>3</th>\n",
       "      <td>4</td>\n",
       "      <td>0.666667</td>\n",
       "    </tr>\n",
       "    <tr>\n",
       "      <th>4</th>\n",
       "      <td>5</td>\n",
       "      <td>0.833333</td>\n",
       "    </tr>\n",
       "    <tr>\n",
       "      <th>5</th>\n",
       "      <td>6</td>\n",
       "      <td>1.000000</td>\n",
       "    </tr>\n",
       "  </tbody>\n",
       "</table>\n",
       "</div>"
      ],
      "text/plain": [
       "   x         F\n",
       "0  1  0.166667\n",
       "1  2  0.333333\n",
       "2  3  0.500000\n",
       "3  4  0.666667\n",
       "4  5  0.833333\n",
       "5  6  1.000000"
      ]
     },
     "execution_count": 17,
     "metadata": {},
     "output_type": "execute_result"
    }
   ],
   "source": [
    "#  Plot the probability and cumulative distribution functions for  𝑅𝑚𝑒𝑑 . \n",
    "# I recommend using simulations and the law of large numbers.\n",
    "\n",
    "# Visualize the probability distribution\n",
    "plt.bar(middle_values, pr)\n",
    "plt.xlabel(\"Middle Value\")\n",
    "plt.ylabel(\"Probability\")\n",
    "plt.title('Probability Distribution of the Middle Value when Rolling Three Dice')\n",
    "plt.show()\n",
    "\n",
    "## Chat gpt was used for this graph^^\n",
    "\n",
    "# Visualize the cumulative distribution\n",
    "F = np.cumsum(pr) # Cumulative summation of p\n",
    "\n",
    "plt.scatter(middle_values,F)\n",
    "plt.plot(middle_values,F)\n",
    "plt.xlabel(\"x\")\n",
    "plt.ylabel(\"F(x) = pr[Rmed = i]\")\n",
    "plt.title('Distribution Function of the Sum of Middle Die Values')\n",
    "plt.show()\n",
    "\n",
    "df = pd.DataFrame({'x':middle_values,'F':F})\n",
    "df"
   ]
  },
  {
   "cell_type": "code",
   "execution_count": null,
   "metadata": {},
   "outputs": [],
   "source": []
  }
 ],
 "metadata": {
  "kernelspec": {
   "display_name": "Python 3",
   "language": "python",
   "name": "python3"
  },
  "language_info": {
   "codemirror_mode": {
    "name": "ipython",
    "version": 3
   },
   "file_extension": ".py",
   "mimetype": "text/x-python",
   "name": "python",
   "nbconvert_exporter": "python",
   "pygments_lexer": "ipython3",
   "version": "3.8.8"
  }
 },
 "nbformat": 4,
 "nbformat_minor": 4
}
