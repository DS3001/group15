{
  "nbformat": 4,
  "nbformat_minor": 0,
  "metadata": {
    "colab": {
      "provenance": []
    },
    "kernelspec": {
      "name": "python3",
      "display_name": "Python 3"
    },
    "language_info": {
      "name": "python"
    }
  },
  "cells": [
    {
      "cell_type": "markdown",
      "source": [
        "Source 1)\n",
        "\n",
        "https://www.pewresearch.org/social-trends/2011/07/06/two-years-of-economic-recovery-women-lose-jobs-men-find-them/\n",
        "\n",
        "\n",
        "This source explains that women experienced losses significantly higher comparable to their male counterparts after the 2008 recession. In simpler terms, it was easier for men to recover after the 2008 recession. This figure could possibly support more women reporting their lower class and how they are less satisfied with their financial situation.\n",
        "\n",
        "Source 2)\n",
        "\n",
        "https://www.federalreserve.gov/boarddocs/rptcongress/annual06/sec1/c2.htm#nl1\n",
        "\n",
        "I noticed in the graphs there was a huge spike in 2006 for satisfaction with financial situation for both women and men(FINALTER).The previous article discusses how the economy was a a rise in employment, household wealth and financial conditions leading more individuals overall to be satisfatied with their situation.\n",
        "An interesting sentence that kind of summarizes the spike as following:\n",
        "\"In 2006, real household income was boosted by gains in wage and salary income and the increased purchasing power resulting from the deceleration in overall consumer prices. Labor income received by households rose both because of gains in real hourly wages and because of sustained increases in employment. \"\n",
        "\n",
        "Source 3)\n",
        "\n",
        "https://www.pewresearch.org/social-trends/2020/01/09/trends-in-income-and-wealth-inequality/\n",
        "\n",
        "SLighlty discusses that a decade after the financial recession the economy wa sable finally to slightly recover due to an increase in jobs\n",
        "\n",
        "Source 4)\n",
        "\n",
        "I couldn't find alot of sources about financial trends due to 9/11, but during my research, I found out that there was a mini recession in 2001 from March to November. The cause was because of dot coms bubble collapsing. During the 1990's the was mass technology expansion in technology due to the internet. Many people want to build .com websites for profit which ultimately led to a crash. It was the shortest recession in U.S history. Interestingly the second source below highlights that 9/11 could have been the catalyst to end the recession. Inserting the following quote:\n",
        "\n",
        "'The Sept. 11 attacks and the associated economic disruptions may have hastened the recession's end by encouraging the Fed to keep cutting the fed funds rate. The benchmark rate reached a low of 1% by mid-2003.\"\n",
        "\n",
        "https://trendspider.com/learning-center/the-dot-com-recession-2001/\n",
        "https://www.investopedia.com/articles/economics/08/past-recessions.asp"
      ],
      "metadata": {
        "id": "5i4wiHfs8SCD"
      }
    },
    {
      "cell_type": "code",
      "source": [],
      "metadata": {
        "id": "qBXdeGrcEhLi"
      },
      "execution_count": null,
      "outputs": []
    }
  ]
}