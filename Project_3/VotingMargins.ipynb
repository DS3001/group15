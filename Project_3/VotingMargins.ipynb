{
  "nbformat": 4,
  "nbformat_minor": 0,
  "metadata": {
    "colab": {
      "provenance": []
    },
    "kernelspec": {
      "name": "python3",
      "display_name": "Python 3"
    },
    "language_info": {
      "name": "python"
    }
  },
  "cells": [
    {
      "cell_type": "code",
      "execution_count": 1,
      "metadata": {
        "colab": {
          "base_uri": "https://localhost:8080/"
        },
        "id": "On2tcB5BgkqN",
        "outputId": "7504efba-78d9-4f8a-b090-5f606a967c32"
      },
      "outputs": [
        {
          "output_type": "stream",
          "name": "stdout",
          "text": [
            "Cloning into 'VA_gerrymandering'...\n",
            "warning: redirecting to https://github.com/DS3001/VA_gerrymandering.git/\n",
            "remote: Enumerating objects: 52, done.\u001b[K\n",
            "remote: Counting objects: 100% (52/52), done.\u001b[K\n",
            "remote: Compressing objects: 100% (52/52), done.\u001b[K\n",
            "remote: Total 52 (delta 19), reused 0 (delta 0), pack-reused 0\u001b[K\n",
            "Receiving objects: 100% (52/52), 31.36 MiB | 3.68 MiB/s, done.\n",
            "Resolving deltas: 100% (19/19), done.\n"
          ]
        }
      ],
      "source": [
        "! git clone https://www.github.com/DS3001/VA_gerrymandering"
      ]
    },
    {
      "cell_type": "code",
      "source": [
        "import matplotlib.pyplot as plt\n",
        "import numpy as np\n",
        "import pandas as pd"
      ],
      "metadata": {
        "id": "-ul_DN_ihDiP"
      },
      "execution_count": 4,
      "outputs": []
    },
    {
      "cell_type": "code",
      "source": [
        "df = pd.read_csv('/content/VA_gerrymandering/data/voting_VA.csv', low_memory=False)"
      ],
      "metadata": {
        "id": "3ISPXrSehEbJ"
      },
      "execution_count": 6,
      "outputs": []
    },
    {
      "cell_type": "code",
      "source": [
        "va_pivoted = df[df['state'] == 'VIRGINIA'].pivot_table(index=['year', 'county_name'], columns='party', values='candidatevotes', aggfunc='sum')\n",
        "va_pivoted['vote_margin'] = va_pivoted['DEMOCRAT'] - va_pivoted['REPUBLICAN']\n",
        "va_pivoted.reset_index(inplace=True)\n",
        "print(va_pivoted[['year', 'county_name', 'vote_margin']])"
      ],
      "metadata": {
        "colab": {
          "base_uri": "https://localhost:8080/"
        },
        "id": "5mSpAErnhygj",
        "outputId": "1f0bd43a-e514-4935-f464-8add0ed53911"
      },
      "execution_count": 7,
      "outputs": [
        {
          "output_type": "stream",
          "name": "stdout",
          "text": [
            "party  year        county_name  vote_margin\n",
            "0      2000           ACCOMACK      -1260.0\n",
            "1      2000          ALBEMARLE      -2036.0\n",
            "2      2000         ALEXANDRIA      14590.0\n",
            "3      2000          ALLEGHANY       -594.0\n",
            "4      2000             AMELIA      -1193.0\n",
            "..      ...                ...          ...\n",
            "773    2020  WILLIAMSBURG CITY       2827.0\n",
            "774    2020    WINCHESTER CITY       1389.0\n",
            "775    2020               WISE     -10256.0\n",
            "776    2020              WYTHE      -8590.0\n",
            "777    2020               YORK      -2558.0\n",
            "\n",
            "[778 rows x 3 columns]\n"
          ]
        }
      ]
    }
  ]
}